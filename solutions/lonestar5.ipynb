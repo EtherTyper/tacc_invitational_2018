{
 "cells": [
  {
   "cell_type": "markdown",
   "metadata": {},
   "source": [
    "# Lonestar 5\n",
    "\n",
    "Supercomputers like Lonestar 5 take large problems and divide them into smaller pieces. Each fragment of the task is distributed to different *nodes* on the cluster to be computed simultaneously, in parallel. The problem with parallel computation is that each node you add incurs a time penalty. \n",
    "\n",
    "This loss of efficiency is called *overhead*. The more nodes you add, the more overhead you suffer. That means that distributing a task 20 ways doesn't result in a 20x speedup. In reality, it may result in a lower actual speedup due to this overhead. For example, you may have a 10 hour job that you want to divide across 2 nodes. Unfortunately, transferring data to each additional node past the first one may take 1 hour per node. Therefore, the real time for your task would be 6 hours. The *speedup*, in this case, was 1.7x (rounded to the tenths place.)\n",
    "\n",
    "### Input\n",
    "\n",
    "Your program must read input from a file named `lonestar5.dat`. There is one line of input with three integers. The first integer represents the number of hours a task will take. The second integer represents the number of nodes assigned to the task. The third integer is the additional time in hours it will take, per node, to distribute the task.\n",
    "\n",
    "### Output\n",
    "\n",
    "Your program must output the *speedup* for this task, rounded to the tenths place.\n",
    "\n",
    "### Sample Input File `lonestar5.dat`\n",
    "\n",
    "```\n",
    "4000 20 3\n",
    "```\n",
    "\n",
    "### Sample Output to Screen\n",
    "\n",
    "```\n",
    "15.6x\n",
    "```"
   ]
  },
  {
   "cell_type": "code",
   "execution_count": 1,
   "metadata": {},
   "outputs": [
    {
     "name": "stdout",
     "output_type": "stream",
     "text": [
      "15.6x\n"
     ]
    }
   ],
   "source": [
    "file = open(\"lonestar5.dat\", \"r\")\n",
    "ints = [ int(token.strip()) for token in file.readline().split()]\n",
    "hours = ints[0]\n",
    "nodes = ints[1]\n",
    "penalty = ints[2]\n",
    "time = hours / nodes + (nodes - 1) * penalty\n",
    "print(\"{}x\".format(round(hours / time, 1)))"
   ]
  }
 ],
 "metadata": {
  "kernelspec": {
   "display_name": "Python 3",
   "language": "python",
   "name": "python3"
  },
  "language_info": {
   "codemirror_mode": {
    "name": "ipython",
    "version": 3
   },
   "file_extension": ".py",
   "mimetype": "text/x-python",
   "name": "python",
   "nbconvert_exporter": "python",
   "pygments_lexer": "ipython3",
   "version": "3.6.4"
  }
 },
 "nbformat": 4,
 "nbformat_minor": 2
}
