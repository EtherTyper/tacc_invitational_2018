{
 "cells": [
  {
   "cell_type": "markdown",
   "metadata": {},
   "source": [
    "# Ranger\n",
    "\n",
    "TACC's first cluster system, launched in 2007, was Ranger. Large scale systems like Ranger never truly go away. Parts of Ranger were distributed to other institutions to build new systems, and those systems are still operational. Just like Ranger, the language FORTRAN never goes away, either.\n",
    "\n",
    "In FORTRAN, loops look like this:\n",
    "\n",
    "```\n",
    "do i=0,20,1\n",
    "    print i\n",
    "end do\n",
    "```\n",
    "\n",
    "This loop works like a `for` loop in other languages. The loop control variable is `i`. The starting value of `i` is `0`. The loop terminates when `i` is equal to `20`, and each iteration of the loop will increment `i` by `1`.\n",
    "\n",
    "### Input\n",
    "\n",
    "Your program must accept input from a file named `ranger.dat`. The first line of the input file will be an integer *`N`*, representing the number of test cases. Each test case will be the first line of a FORTRAN `do` loop, using the format seen above. \n",
    "\n",
    "### Output\n",
    "\n",
    "For each test case, your program must print to the screen the name of the loop control variable, a single space, and then a list of values, separated by spaces. (There should be no space after the last value.) Each value must be the value of the loop control variable after each iteration of the `do` loop, excluding the value that causes the loop to exit. You may assume that each test case will reach the terminating value.\n",
    "\n",
    "### Sample Input File `ranger.dat`\n",
    "\n",
    "```\n",
    "3\n",
    "do omg=0,20,1\n",
    "do so=0,25,5\n",
    "do old=10,2,-2\n",
    "```\n",
    "\n",
    "### Sample Output to Screen\n",
    "\n",
    "```\n",
    "omg 0 1 2 3 4 5 6 7 8 9 10 11 12 13 14 15 16 17 18 19\n",
    "so 0 5 10 15 20\n",
    "old 10 8 6 4\n",
    "```\n"
   ]
  },
  {
   "cell_type": "code",
   "execution_count": 8,
   "metadata": {},
   "outputs": [
    {
     "name": "stdout",
     "output_type": "stream",
     "text": [
      "omg 0 1 2 3 4 5 6 7 8 9 10 11 12 13 14 15 16 17 18 19\n",
      "so 0 5 10 15 20\n",
      "old 10 8 6 4\n"
     ]
    }
   ],
   "source": [
    "file = open(\"ranger.dat\", \"r\")\n",
    "lines = [ line.strip() for line in file][1:]\n",
    "for line in lines:\n",
    "    left = (line.split(\"=\")[0]).strip()\n",
    "    right = (line.split(\"=\")[1]).strip()\n",
    "    output = left.split()[1].strip()\n",
    "    vals = [ int(val.strip()) for val in right.split(',')]\n",
    "    for i in range(vals[0], vals[1], vals[2]):\n",
    "        output = output + \" \" + str(i)\n",
    "    print(output)"
   ]
  }
 ],
 "metadata": {
  "kernelspec": {
   "display_name": "Python 3",
   "language": "python",
   "name": "python3"
  },
  "language_info": {
   "codemirror_mode": {
    "name": "ipython",
    "version": 3
   },
   "file_extension": ".py",
   "mimetype": "text/x-python",
   "name": "python",
   "nbconvert_exporter": "python",
   "pygments_lexer": "ipython3",
   "version": "3.6.4"
  }
 },
 "nbformat": 4,
 "nbformat_minor": 2
}
