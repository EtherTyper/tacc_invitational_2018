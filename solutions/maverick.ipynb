{
 "cells": [
  {
   "cell_type": "markdown",
   "metadata": {},
   "source": [
    "# Maverick\n",
    "\n",
    "The TACC system Maverick contains many General Purpose Graphics Processing Units, or GPGPUS. They are very good at performing machine learning tasks, such as computer vision. One such task is called a *Convolution*, which is a way of looking for shapes or features in an image. A square filter is applied on each group of pixels on the image, which may result in an image being \"detected\". For example, let's say you have an image with these pixel values.\n",
    "\n",
    "```\n",
    "0   0   0   0   0\n",
    "0   0   255 255 255\n",
    "0   0   255 0   0\n",
    "0   0   255 0   0\n",
    "```\n",
    "\n",
    "A 3x3 filter that detects corner shapes in images may look like this:\n",
    "\n",
    "```\n",
    "1   1   1\n",
    "1   -1  -1\n",
    "1   -1  -1\n",
    "```\n",
    "\n",
    "The convolution filter is applied by multiplying each value in the filter by each corresponding pixel in an image region with the same size and adding the products to get a \"score\". If you applied the filter to the upper left of the image (a region beginning with row 0, column 0) the result of the filter would be:\n",
    "\n",
    "`(1 * 0 + 1 * 0 + 1 * 0) + (1 * 0 + -1 * 0 + -1 * 255) + (1 * 0 + -1 * 0 + -1 * 255) = -510`\n",
    "\n",
    "If you applied the filter to the lower right of the image (a region starting at row 1, column 2), the result of the filter would be:\n",
    "\n",
    "`(1 * 255 + 1 * 255 + 1 * 255) + (1 * 255 + 0 * 0 + 0 * 0) + (1 * 255 + 0 * 0 + 0 * 0) = 1275`\n",
    "\n",
    "Therefore, it is much more likely that a corner is at row 1, column 2 due to its higher \"score\".\n",
    "\n",
    "### Input\n",
    "\n",
    "Your program must accept input from the text file named `maverick.dat` that contains a 3x3 convolution filter with integer values, followed by image pixel data (in the shape of a rectangle of unspecified size) with only positive values between 0 and 255 for each pixel. Each value of each row will be separated by a space, and each row will be on a separate line. There is no extra blank line between the filter and the image.\n",
    "\n",
    "### Output\n",
    "\n",
    "Your program must output the row and column of the region of the image with the highest \"score\", using the words `row` and `column` (in that order) to denote the row and column of the upper left corner of the region with the highest score. Assume the top row is 0 and the left column is 0. \n",
    "\n",
    "### Sample Input File `maverick.dat`\n",
    "\n",
    "```\n",
    "-1 2 -1\n",
    "2 3 2\n",
    "-1 2 -1\n",
    "28 38 21 40 80 35\n",
    "78 23 22 56 93 54\n",
    "76 25 36 81 100 91\n",
    "23 47 23 45 87 87\n",
    "12 14 79 22 23 25\n",
    "80 81 82 43 21 24\n",
    "```\n",
    "\n",
    "### Sample Output to Screen\n",
    "\n",
    "```\n",
    "row 1 column 3\n",
    "```"
   ]
  },
  {
   "cell_type": "code",
   "execution_count": 1,
   "metadata": {},
   "outputs": [
    {
     "name": "stdout",
     "output_type": "stream",
     "text": [
      "row 1 column 3\n"
     ]
    }
   ],
   "source": [
    "input = open(\"maverick.dat\", \"r\")\n",
    "lines = [ line.strip() for line in input ]\n",
    "filter = [ [ int(token) for token in line.split() ] for line in lines[:3] ]\n",
    "img = [ [ int(token) for token in line.split() ] for line in lines[3:]]\n",
    "[ img[ i // 3 ][ int(i) % 3 ] * filter[ i // 3 ][ int(i) % 3 ] for i in range(9) ]\n",
    "\n",
    "largest_row = None\n",
    "largest_col = None\n",
    "largest_score = None\n",
    "\n",
    "for row in range(len(img) - 2):\n",
    "    for col in range(len(img[row]) - 2):\n",
    "        score = sum([ img[ row + i // 3 ][ col + int(i) % 3 ] * filter[ i // 3 ][ int(i) % 3 ] for i in range(9) ])\n",
    "        if largest_score is None:\n",
    "            largest_score = score\n",
    "            largest_row = 0\n",
    "            largest_col = 0\n",
    "        elif score > largest_score:\n",
    "            largest_score = score\n",
    "            largest_row = row\n",
    "            largest_col = col\n",
    "print(\"row\", largest_row, \"column\", largest_col)"
   ]
  }
 ],
 "metadata": {
  "kernelspec": {
   "display_name": "Python 3",
   "language": "python",
   "name": "python3"
  },
  "language_info": {
   "codemirror_mode": {
    "name": "ipython",
    "version": 3
   },
   "file_extension": ".py",
   "mimetype": "text/x-python",
   "name": "python",
   "nbconvert_exporter": "python",
   "pygments_lexer": "ipython3",
   "version": "3.6.4"
  }
 },
 "nbformat": 4,
 "nbformat_minor": 2
}
