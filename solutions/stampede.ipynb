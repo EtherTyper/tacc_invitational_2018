{
 "cells": [
  {
   "cell_type": "markdown",
   "metadata": {},
   "source": [
    "# Stampede\n",
    "\n",
    "Stampede was one of the fastest computing clusters in the world, when it was launched in 2012. It had `6,400` nodes. Each node had an onboard Xeon CPU with 16 processor cores, as well as an additional Xeon Phi Co-Processor add-on that added an additional 60 cores. Some nodes had GPU cores, as well. The entire system had `522,080` cores. \n",
    "\n",
    "Computing performance is measured in terms of how many quadrillion floating-point operations it could perform per second, otherwise known as *PetaFLOPS*. The entire system performed at 12 PetaFLOPS. Each Xeon Phi Co-Processor operated at a speed of 1 TeraFLOPS, or one trillion floating-point operations per second. Each Xeon CPU operated at a speed of 500 GigaFLOPS, or 500 billion floating-point operations per second.\n",
    "\n",
    "### Input\n",
    "\n",
    "There is no input for this problem.\n",
    "\n",
    "### Output\n",
    "\n",
    "Your program must output the number of GigaFLOPS per GPU core, rounded to the nearest integer GigaFLOPS.\n",
    "\n",
    "### No Sample Input\n",
    "\n",
    "### No Sample Output"
   ]
  },
  {
   "cell_type": "code",
   "execution_count": 29,
   "metadata": {},
   "outputs": [
    {
     "name": "stdout",
     "output_type": "stream",
     "text": [
      "67\n"
     ]
    }
   ],
   "source": [
    "gigaflops = 1000000000\n",
    "teraflops = gigaflops * 1000\n",
    "petaflops = teraflops * 1000\n",
    "xeon_flops = 6400 * 1 * teraflops + 6400 * 500 * gigaflops\n",
    "gpu_flops = (12 - xeon_flops / petaflops) * petaflops\n",
    "gpu_core_flops = gpu_flops / (522080 - 6400 * (16 + 60))\n",
    "print(int(gpu_core_flops / gigaflops))"
   ]
  }
 ],
 "metadata": {
  "kernelspec": {
   "display_name": "Python 3",
   "language": "python",
   "name": "python3"
  },
  "language_info": {
   "codemirror_mode": {
    "name": "ipython",
    "version": 3
   },
   "file_extension": ".py",
   "mimetype": "text/x-python",
   "name": "python",
   "nbconvert_exporter": "python",
   "pygments_lexer": "ipython3",
   "version": "3.6.4"
  }
 },
 "nbformat": 4,
 "nbformat_minor": 2
}
