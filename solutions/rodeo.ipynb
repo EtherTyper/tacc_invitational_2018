{
 "cells": [
  {
   "cell_type": "markdown",
   "metadata": {},
   "source": [
    "# Rodeo\n",
    "\n",
    "Rodeo is one of TACC's OpenStack Virtual Machine (VM) host systems. OpenStack has a firewall for each VM, that allows it to determine what traffic is allowed in and out of the system. Firewall rules consist of an action (`ALLOW` or `DENY`), a direction (`INGRESS` or `EGRESS`) and a port number (or `ALL` for all ports). For example, let's say a VM has these rules:\n",
    "\n",
    "```\n",
    "DENY INGRESS ALL,ALLOW EGRESS ALL,ALLOW INGRESS 22\n",
    "```\n",
    "\n",
    "This means that by default, all incoming traffic will be denied. All outbound traffic will be allowed. Incoming traffic on port 22 will be allowed. There are a total of 65,535 ports that are all assumed to be closed in both directions to begin with. The ordering of the rules matters. For example, the same traffic would not be allowed if the rule was written:\n",
    "\n",
    "```\n",
    "ALLOW INGRESS 22,ALLOW EGRESS ALL,DENY INGRESS ALL\n",
    "```\n",
    "\n",
    "This is because `DENY INGRESS ALL` turned off all ingress ports after `ALLOW INGRESS 22` opened port 22.\n",
    "\n",
    "### Input\n",
    "\n",
    "Your program must read input from a file `rodeo.dat`. The first line of the input file will be an integer *`N`* specifying the number of test cases. The next *`N`* lines will each be individual test cases. A test case consists of a series of rules, separated by commas. This will be followed by a semicolon, and then one test traffic case that is either `INBOUND` or `OUTBOUND` followed by a port number.\n",
    "\n",
    "### Output\n",
    "\n",
    "For each test case, print either `ALLOWED` or `DENIED` if the packet was allowed to pass through the Firewall given the test case's rules.\n",
    "\n",
    "### Sample Input from File `rodeo.dat`\n",
    "\n",
    "```\n",
    "7\n",
    "DENY INGRESS ALL,ALLOW EGRESS ALL,ALLOW INGRESS 22;INBOUND 22\n",
    "DENY INGRESS ALL,ALLOW EGRESS ALL,ALLOW INGRESS 22;OUTBOUND 22\n",
    "ALLOW INGRESS 22,ALLOW EGRESS ALL,DENY INGRESS ALL;INBOUND 22\n",
    "DENY INGRESS ALL,DENY EGRESS ALL,ALLOW EGRESS 22;OUTBOUND 80\n",
    "DENY INGRESS ALL,ALLOW EGRESS ALL,DENY EGRESS 22;OUTBOUND 80\n",
    "ALLOW INGRESS ALL,DENY INGRESS 135,ALLOW EGRESS ALL;INBOUND 135\n",
    "DENY INGRESS ALL,ALLOW INGRESS 22,ALLOW INGRESS 443;INBOUND 22\n",
    "```\n",
    "\n",
    "### Sample Output to Screen\n",
    "\n",
    "```\n",
    "ALLOWED\n",
    "ALLOWED\n",
    "DENIED\n",
    "DENIED\n",
    "ALLOWED\n",
    "DENIED\n",
    "ALLOWED\n",
    "```"
   ]
  },
  {
   "cell_type": "code",
   "execution_count": 7,
   "metadata": {
    "scrolled": true
   },
   "outputs": [
    {
     "name": "stdout",
     "output_type": "stream",
     "text": [
      "ALLOWED\n",
      "ALLOWED\n",
      "DENIED\n",
      "DENIED\n",
      "ALLOWED\n",
      "DENIED\n",
      "ALLOWED\n"
     ]
    }
   ],
   "source": [
    "file = open(\"rodeo.dat\")\n",
    "cases = [ line.strip() for line in file ][1:]\n",
    "for case in cases:\n",
    "    splits = case.split(';')\n",
    "    rules = splits[0]\n",
    "    test = splits[1]\n",
    "    inbound = []\n",
    "    outbound = []\n",
    "    for rule in rules.split(','):\n",
    "        tokens = rule.split(' ')\n",
    "        if tokens[1] == \"INGRESS\":\n",
    "            if tokens[0] == \"DENY\":\n",
    "                if tokens[2] == \"ALL\":\n",
    "                    inbound = []\n",
    "                elif int(tokens[2]) in inbound:\n",
    "                    inbound.remove(int(tokens[2]))\n",
    "            else:\n",
    "                if tokens[2] == \"ALL\":\n",
    "                    inbound = [ i for i in range(65535)]\n",
    "                elif not (int(tokens[2]) in inbound):\n",
    "                    inbound.append(int(tokens[2]))\n",
    "        else:\n",
    "            if tokens[0] == \"DENY\":\n",
    "                if tokens[2] == \"ALL\":\n",
    "                    outbound = []\n",
    "                elif int(tokens[2]) in outbound:\n",
    "                    outbound.remove(int(tokens[2]))\n",
    "            else:\n",
    "                if tokens[2] == \"ALL\":\n",
    "                    outbound = [i for i in range(65535)]\n",
    "                elif not (int(tokens[2]) in outbound):\n",
    "                    outbound.append(int(tokens[2]))\n",
    "    test_direction = test.split()[0]\n",
    "    test_port = int(test.split()[1])\n",
    "    if test_direction == \"INBOUND\":\n",
    "        if test_port in inbound:\n",
    "            print(\"ALLOWED\")\n",
    "        else:\n",
    "            print(\"DENIED\")\n",
    "    else:\n",
    "        if test_port in outbound:\n",
    "            print(\"ALLOWED\")\n",
    "        else:\n",
    "            print(\"DENIED\")"
   ]
  }
 ],
 "metadata": {
  "kernelspec": {
   "display_name": "Python 3",
   "language": "python",
   "name": "python3"
  },
  "language_info": {
   "codemirror_mode": {
    "name": "ipython",
    "version": 3
   },
   "file_extension": ".py",
   "mimetype": "text/x-python",
   "name": "python",
   "nbconvert_exporter": "python",
   "pygments_lexer": "ipython3",
   "version": "3.6.4"
  }
 },
 "nbformat": 4,
 "nbformat_minor": 2
}
