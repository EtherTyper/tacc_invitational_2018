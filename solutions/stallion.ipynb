{
 "cells": [
  {
   "cell_type": "markdown",
   "metadata": {},
   "source": [
    "# Stallion\n",
    "\n",
    "In addition to the Data Center on the Pickle Research Campus, TACC also has a Visualization Laboratory on UT's Main Campus. One of the systems housed there is Stallion, a tiled display cluster. It has 80 monitors arranged in a 16x5 configuration. The screen resolution of the entire system is 40,960 x 8,000 pixels, for a total of 328 megapixels. This allows us to display extremely high resolution content, such as the full resolution composite of the Hubble Space Telescope view of the Andromeda Galaxy, which takes up the entire display area. One *node* of Stallion is responsible for operating a group of 4 monitors, in a horizontal line. Stallion is comprised of 20 nodes.\n",
    "\n",
    "### Input\n",
    "\n",
    "Your program must read input from a text file named `stallion.dat`. The first line of input will be an integer *`N`* that represents the number of test cases in the file. Each test case will be a resolution of an image, represented as an integer width, an `x`, and an integer height.\n",
    "\n",
    "### Output\n",
    "\n",
    "Your program must output the minimum number of nodes required to display the image in each test case.\n",
    "\n",
    "### Sample Input File `stallion.dat`\n",
    "\n",
    "```\n",
    "5\n",
    "5000x3000\n",
    "3000x5000\n",
    "4096x2080\n",
    "1024x768\n",
    "2950x2800\n",
    "```\n",
    "\n",
    "### Sample Output to Screen\n",
    "\n",
    "```\n",
    "2\n",
    "4\n",
    "2\n",
    "1\n",
    "2\n",
    "```"
   ]
  },
  {
   "cell_type": "code",
   "execution_count": 2,
   "metadata": {},
   "outputs": [
    {
     "name": "stdout",
     "output_type": "stream",
     "text": [
      "2\n",
      "4\n",
      "2\n",
      "1\n",
      "2\n"
     ]
    }
   ],
   "source": [
    "import math\n",
    "monitor_width = 40960 / 16\n",
    "node_width = monitor_width * 4\n",
    "node_height = 8000 / 5\n",
    "file = open(\"stallion.dat\", \"r\")\n",
    "cases = int(file.readline().strip())\n",
    "for i in range(cases):\n",
    "    values = [ int(token.strip()) for token in file.readline().split('x') ]\n",
    "    print(math.ceil(values[0] / node_width) * math.ceil(values[1] / node_height))"
   ]
  }
 ],
 "metadata": {
  "kernelspec": {
   "display_name": "Python 3",
   "language": "python",
   "name": "python3"
  },
  "language_info": {
   "codemirror_mode": {
    "name": "ipython",
    "version": 3
   },
   "file_extension": ".py",
   "mimetype": "text/x-python",
   "name": "python",
   "nbconvert_exporter": "python",
   "pygments_lexer": "ipython3",
   "version": "3.6.4"
  }
 },
 "nbformat": 4,
 "nbformat_minor": 2
}
