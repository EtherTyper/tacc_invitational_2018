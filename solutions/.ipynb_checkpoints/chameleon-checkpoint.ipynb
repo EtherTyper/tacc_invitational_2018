{
 "cells": [
  {
   "cell_type": "markdown",
   "metadata": {},
   "source": [
    "# Chameleon\n",
    "\n",
    "Chameleon is a system designed for bare metal access to a variety of hardware types, such as GPU, FPGA, ARM, NVME, VM,  Haswell and Infiniband. Individual users can reserve individual nodes on Chameleon for their use. However, to make sure that the system is available to all users, reservations cost Service Units. Each node type has a different cost of service units per hour.\n",
    "\n",
    "- ARM, NVME, Haswell and Infiniband nodes all cost 1 Service Unit per node, per hour.\n",
    "- GPU nodes are the most in demand, so they cost 8 Service Units per node, per hour.\n",
    "- FPGA nodes only cost 1 Service Unit per node, per hour, but also require the use of a special Build Node. Any individual reservation for any number of FPGA nodes automatically incur a flat 4 Service Unit cost.\n",
    "- VM nodes, or Virtual Machine nodes, are free.\n",
    "\n",
    "### Input\n",
    "\n",
    "Your program must accept input from the file `chameleon.dat`. The first line of the text file is an integer *`N`*, specifying the number of reservations made by a Chameleon user. The next *`N`* lines of the text file each contain a reservation. Each reservation contains a reservation name, node type, number of nodes, and a number of hours for the reservation. If there is a reservation specified later in the text file that has the same name as a previously existing reservation, the earlier reservation is cancelled and the user should not be charged Service Units.\n",
    "\n",
    "### Output\n",
    "\n",
    "Your program must output to the screen the number of Service Units used by the reservations contained in the input file, followed by `SUs`.\n",
    "\n",
    "### Sample Input File `chameleon.dat`\n",
    "\n",
    "```\n",
    "10\n",
    "machine_learning GPU 5 10\n",
    "low_power_experiment ARM 10 3\n",
    "burst_writes NVME 1 4\n",
    "load_balancing VM 10 10\n",
    "open_cl FPGA 4 6\n",
    "benchmarking Haswell 2 10\n",
    "burst_writes NVME 1 6\n",
    "low_power_experiment ARM 4 3\n",
    "mpi Infiniband 4 4\n",
    "parallel_circuit FPGA 2 2\n",
    "```\n",
    "\n",
    "### Sample Output to Screen\n",
    "\n",
    "```\n",
    "486 SUs\n",
    "```"
   ]
  },
  {
   "cell_type": "code",
   "execution_count": 13,
   "metadata": {},
   "outputs": [
    {
     "name": "stdout",
     "output_type": "stream",
     "text": [
      "486 SUs\n"
     ]
    }
   ],
   "source": [
    "file = open(\"chameleon.dat\", \"r\")\n",
    "num_reservations = int(file.readline().strip())\n",
    "\n",
    "billing = { \"ARM\" : 1, \"NVME\" : 1, \"Haswell\" : 1, \"Infiniband\" : 1, \"GPU\" : 8, \"FPGA\" : 1, \"VM\" : 0 }\n",
    "\n",
    "reservations = { }\n",
    "for i in range(num_reservations):\n",
    "    tokens = file.readline().split()\n",
    "    name = tokens[0].strip()\n",
    "    reservation = { \"type\" : tokens[1].strip(),\n",
    "                    \"nodes\" : int(tokens[2].strip()), \n",
    "                    \"hours\" : int(tokens[3].strip()) }\n",
    "    reservation[\"sus\"] = billing[reservation[\"type\"]] * reservation[\"nodes\"] * reservation[\"hours\"]\n",
    "    if reservation[\"type\"] == \"FPGA\":\n",
    "        reservation[\"sus\"] = reservation[\"sus\"] + 4\n",
    "    reservations[name] = reservation;\n",
    "\n",
    "su_total = 0\n",
    "for reservation in reservations.items():\n",
    "    su_total = su_total + reservation[1][\"sus\"]\n",
    "    \n",
    "print(su_total, \"SUs\")"
   ]
  }
 ],
 "metadata": {
  "kernelspec": {
   "display_name": "Python 3",
   "language": "python",
   "name": "python3"
  },
  "language_info": {
   "codemirror_mode": {
    "name": "ipython",
    "version": 3
   },
   "file_extension": ".py",
   "mimetype": "text/x-python",
   "name": "python",
   "nbconvert_exporter": "python",
   "pygments_lexer": "ipython3",
   "version": "3.6.4"
  }
 },
 "nbformat": 4,
 "nbformat_minor": 2
}
