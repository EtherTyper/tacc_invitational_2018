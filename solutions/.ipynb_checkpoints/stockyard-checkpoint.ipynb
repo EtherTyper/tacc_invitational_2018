{
 "cells": [
  {
   "cell_type": "markdown",
   "metadata": {},
   "source": [
    "# Stockyard\n",
    "\n",
    "Sometimes, TACC users must make their files accessible to multiple systems. For that purpose, we have a large storage system called Stockyard. Each user has a home directory on Stockyard, contained inside of a mounted directory called `/$work`. Due to the sheer number of users, we have divided them into groups of 5 and assigned them a group number. For example, user `jchuah` might be the 104th user, therefore `jchuah` would be in group number 21. The user's home directory would be `/$work/21/jchuah`.\n",
    "\n",
    "### Input\n",
    "\n",
    "Your program must read an input file named `stockyard.dat`. The first line is an integer *`N`* representing the number of test cases. The next *`N`* lines are test cases. Each test case is a username. After the test cases, there is another line containing an integer *`M`* representing the number of users on the system. The next *`M`* lines are usernames, in the order in which they were added to the system.\n",
    "\n",
    "### Output\n",
    "\n",
    "Your program must print out the home directory for each test case, in the format `/$work/<groupnumber>/<username>`. If a user does not exist, then print `dir not found`.\n",
    "\n",
    "### Sample Input File `stockyard.dat`\n",
    "\n",
    "```\n",
    "4\n",
    "jpowell\n",
    "rgomez\n",
    "dhunter\n",
    "jchuah\n",
    "35\n",
    "bbarth\n",
    "tcockerill\n",
    "mdahan\n",
    "ngaffney\n",
    "kgaither\n",
    "chempel\n",
    "jmccord\n",
    "tminyard\n",
    "pnavratil\n",
    "mvaughn\n",
    "jwest\n",
    "gabram\n",
    "jallen\n",
    "jallison\n",
    "carnold\n",
    "mbland\n",
    "abowen\n",
    "tbrown\n",
    "jcarson\n",
    "jchuah\n",
    "cdey\n",
    "adubrow\n",
    "veijkhout\n",
    "jfonner\n",
    "gfoss\n",
    "mfratkin\n",
    "rgomez\n",
    "jgetz\n",
    "sgray\n",
    "chammock\n",
    "nhenriques\n",
    "dhunter\n",
    "cjansen\n",
    "mstelmaszek\n",
    "pstorm\n",
    "```\n",
    "\n",
    "### Sample Output to Screen\n",
    "\n",
    "```\n",
    "dir not found\n",
    "/$work/6/rgomez\n",
    "/$work/7/dhunter\n",
    "/$work/4/jchuah\n",
    "```"
   ]
  },
  {
   "cell_type": "code",
   "execution_count": 6,
   "metadata": {},
   "outputs": [
    {
     "name": "stdout",
     "output_type": "stream",
     "text": [
      "dir not found\n",
      "/$work/6/rgomez\n",
      "/$work/7/dhunter\n",
      "/$work/4/jchuah\n"
     ]
    }
   ],
   "source": [
    "import math\n",
    "file = open(\"stockyard.dat\", \"r\")\n",
    "lines = [ line.strip() for line in file ]\n",
    "numcases = int(lines[0])\n",
    "cases = lines[1:numcases + 1]\n",
    "users = lines[numcases + 2:]\n",
    "for case in cases:\n",
    "    try:\n",
    "        print(\"/$work/{}/{}\".format( math.ceil( (users.index(case) + 1) / 5 ), case ))\n",
    "    except:\n",
    "        print(\"dir not found\")"
   ]
  }
 ],
 "metadata": {
  "kernelspec": {
   "display_name": "Python 3",
   "language": "python",
   "name": "python3"
  },
  "language_info": {
   "codemirror_mode": {
    "name": "ipython",
    "version": 3
   },
   "file_extension": ".py",
   "mimetype": "text/x-python",
   "name": "python",
   "nbconvert_exporter": "python",
   "pygments_lexer": "ipython3",
   "version": "3.6.4"
  }
 },
 "nbformat": 4,
 "nbformat_minor": 2
}
