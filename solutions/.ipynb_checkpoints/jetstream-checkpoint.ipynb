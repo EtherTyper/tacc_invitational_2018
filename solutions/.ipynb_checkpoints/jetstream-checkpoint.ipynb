{
 "cells": [
  {
   "cell_type": "markdown",
   "metadata": {},
   "source": [
    "# Jetstream\n",
    "\n",
    "The Jetstream system is an Elastic Cloud. This means that many virtual machines (VMs) run inside of the entire system for smaller workloads like running a web service. The system is Elastic. This means that if a VM gets overloaded, a Jetstream can automatically create additional VMs to split the workload.\n",
    "\n",
    "Let's say that a VM can handle a certain number of users before 50% the memory on the server is consumed. Once it hits this limit, Jetstream will create an additional VM for any new users. New users will be distributed to the new VM. If the overall usage decreases, excess VMs are shut down.\n",
    "\n",
    "### Input\n",
    "\n",
    "Your program must accept input from the text file `jetstream.dat`. The text file will contain an integer *`N`*, representing the number of data points in the text file. Each data point is a decimal number, representing an hourly measurement of how many fractions of VM memory are needed during that hour. For example, `2.25` means that at the current load would fill up 2 VMs completely and another VM 25% of the way. **Remember that this is not the number of VMs in actual use, since a new VM would be created when the memory usage exceeds 50%!** Therefore, a usage of `2.25` would require *5* VMs.\n",
    "\n",
    "### Output\n",
    "\n",
    "Your program must print, to the screen, an integer representing the number of VM hours used across the specified period followed by ` HOURS`. VM hours are counted as the sum of VMs across all hours in the test data.\n",
    "\n",
    "### Sample Input File `jetstream.dat`\n",
    "\n",
    "```\n",
    "10\n",
    "1.0\n",
    "2.0\n",
    "1.5\n",
    "2.25\n",
    "2.5\n",
    "2.25\n",
    "1.0\n",
    "1.5\n",
    "1.25\n",
    "1.0\n",
    "```\n",
    "\n",
    "### Sample Output to Screen\n",
    "\n",
    "```\n",
    "34 HOURS\n",
    "```"
   ]
  },
  {
   "cell_type": "code",
   "execution_count": 3,
   "metadata": {},
   "outputs": [
    {
     "name": "stdout",
     "output_type": "stream",
     "text": [
      "34 HOURS\n"
     ]
    }
   ],
   "source": [
    "import math\n",
    "file = open(\"jetstream.dat\", \"r\")\n",
    "hours = int(file.readline().strip())\n",
    "vm_hours = 0\n",
    "for i in range(hours):\n",
    "    vm_hours = vm_hours + math.ceil(float(file.readline().strip()) / 0.5)\n",
    "print(vm_hours, \"HOURS\")"
   ]
  }
 ],
 "metadata": {
  "kernelspec": {
   "display_name": "Python 3",
   "language": "python",
   "name": "python3"
  },
  "language_info": {
   "codemirror_mode": {
    "name": "ipython",
    "version": 3
   },
   "file_extension": ".py",
   "mimetype": "text/x-python",
   "name": "python",
   "nbconvert_exporter": "python",
   "pygments_lexer": "ipython3",
   "version": "3.6.4"
  }
 },
 "nbformat": 4,
 "nbformat_minor": 2
}
