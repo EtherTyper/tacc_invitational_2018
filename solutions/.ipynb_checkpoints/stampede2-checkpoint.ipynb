{
 "cells": [
  {
   "cell_type": "markdown",
   "metadata": {},
   "source": [
    "# Stampede2\n",
    "\n",
    "Machines like Stampede2 are designed to perform extremely high precision calculations, where every decimal place matters. This was extremely important in the LIGO Experiment, which needed to detect fluctuations in space-time at a scale of 1/20th the width of a proton. (That's a very small number.) These values are stored in scientific notation, with a mantissa and exponent. For example, the value `2.653E10` has a mantissa of `2.653` and an exponent of `10`. Two problems in these types of calculations are Numeric *Overflow* and *Underflow*. \n",
    "\n",
    "Numeric Overflow occurs when the mantissa becomes high enough to result in a loss of significant digits. This is due to the fact that the number of digits in the mantissa is limited by the size of the variable that stores it. **For our purposes, let's say that the maximum number of digits for the mantissa is 1 whole number and 10 decimal places.**\n",
    "\n",
    "Here is an example of a situation where overflow occurs:\n",
    "\n",
    "```\n",
    "2.653E+10 + 9.5912498745E+10\n",
    "= 26530000000 + 95912498745\n",
    "= 122442498745\n",
    "= 1.2244249874E+11      # Oops! We lost the 5 at the end\n",
    "```\n",
    "\n",
    "Numeric Underflow occurs when an operation, such as addition, between two numbers of extremely different scale result in no change to the stored value of the larger number. Here is an example:\n",
    "\n",
    "```\n",
    "2.653E+10 + 9.5E-4\n",
    "= 26530000000 + 0.00095\n",
    "= 26530000000.00095\n",
    "= 2.6530000000E+10     # Oops! We didn't store the .00095 at the end!\n",
    "```\n",
    "\n",
    "### Input\n",
    "\n",
    "Your program must accept input from a text file `stampede2.dat`. This first line of the file contains an integer *`N`* which specifies the number of test cases. Each test case consists of two numbers written in scientific notation (mantissa, followed by `E` and then an exponent value). The numbers are separated by a space.\n",
    "\n",
    "### Output\n",
    "\n",
    "For each test case, assume that the numbers are being added together. For each case, output `OVERFLOW` if Numeric Overflow occurs, `UNDERFLOW` if Numeric Underflow occurs, or `SAFE` if the addition operation is safe.\n",
    "\n",
    "### Sample File Input `stampede2.dat`\n",
    "\n",
    "```\n",
    "8\n",
    "2.653E+10 9.5912498745E+10\n",
    "2.653E+10 9.5E-4\n",
    "2.653E+10 9.59E+4\n",
    "2.653E+4 9.2E+10\n",
    "9.5E-4 2.653E+10\n",
    "2.653E+10 7.27391E+5\n",
    "2.36E-4 6.274E-5\n",
    "2.36E-1 6.274992757E-5\n",
    "```\n",
    "\n",
    "### Sample Output to Screen\n",
    "\n",
    "```\n",
    "OVERFLOW\n",
    "UNDERFLOW\n",
    "SAFE\n",
    "SAFE\n",
    "UNDERFLOW\n",
    "SAFE\n",
    "SAFE\n",
    "OVERFLOW\n",
    "```"
   ]
  },
  {
   "cell_type": "code",
   "execution_count": 40,
   "metadata": {},
   "outputs": [
    {
     "name": "stdout",
     "output_type": "stream",
     "text": [
      "OVERFLOW\n",
      "UNDERFLOW\n",
      "SAFE\n",
      "SAFE\n",
      "UNDERFLOW\n",
      "SAFE\n",
      "SAFE\n",
      "OVERFLOW\n"
     ]
    }
   ],
   "source": [
    "import math\n",
    "from decimal import Decimal\n",
    "\n",
    "file = open(\"stampede2.dat\", \"r\")\n",
    "cases = int(file.readline().strip())\n",
    "parser = lambda token: float(token.split('E')[0]) * math.pow(10, float(token.split('E')[1]))\n",
    "\n",
    "for i in range(cases):\n",
    "    tokens = [ token.strip() for token in file.readline().split() ]\n",
    "    leftvalue = parser(tokens[0])\n",
    "    rightvalue = parser(tokens[1])\n",
    "    sum = leftvalue + rightvalue\n",
    "    scientific = '%.10E' % Decimal(sum)\n",
    "    int_portion = str(sum).split('.')[0]\n",
    "    frac_portion = str(sum).split('.')[1]\n",
    "    if len(int_portion) > 11 or len(frac_portion) > 11:\n",
    "        print(\"OVERFLOW\")\n",
    "    elif parser(scientific) == max(leftvalue, rightvalue):\n",
    "        print(\"UNDERFLOW\")\n",
    "    else:\n",
    "        print(\"SAFE\")\n",
    "        "
   ]
  }
 ],
 "metadata": {
  "kernelspec": {
   "display_name": "Python 3",
   "language": "python",
   "name": "python3"
  },
  "language_info": {
   "codemirror_mode": {
    "name": "ipython",
    "version": 3
   },
   "file_extension": ".py",
   "mimetype": "text/x-python",
   "name": "python",
   "nbconvert_exporter": "python",
   "pygments_lexer": "ipython3",
   "version": "3.6.4"
  }
 },
 "nbformat": 4,
 "nbformat_minor": 2
}
