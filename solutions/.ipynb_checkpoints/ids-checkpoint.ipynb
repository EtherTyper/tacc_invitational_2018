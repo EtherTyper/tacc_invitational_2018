{
 "cells": [
  {
   "cell_type": "markdown",
   "metadata": {},
   "source": [
    "# IDS\n",
    "\n",
    "TACC's Intrusion Detection System (IDS) looks for internal and external threats to the systems on our network. One type of attack that can occur is called Address Resolution Protocol (ARP) Poisoning. \n",
    "\n",
    "Every computer on a network has both a MAC address, represented as six hex codes seperated by the `:` character (example - `B3:C8:2E:6F:54:3A`), and an IP address represented as four groups of numbers separated by the `.` character (example - `192.168.1.1`). Before network traffic is sent to an IP Address, ARP Responses help determine which computer's MAC address will be responsible for the traffic. Most traffic will go to the Network Gateway MAC Address.\n",
    "\n",
    "A malicious computer may attempt to perform ARP Poisoning, by pretending to be the Gateway and responding with its own MAC Address when someone requests the Gateway's MAC Address. This allows the malicious computer to intercept wireless traffic.\n",
    "\n",
    "### Input\n",
    "\n",
    "Your program must accept input from the text file named `ids.dat`. The first line of the input file will be an integer *`N`* that specifies the number of ARP Responses contained in the file. The next *`N`* lines will be ARP Responses, one response per line. Each response is an IP Address, a single space, and then a MAC Address. The first response will be the actual Gateway MAC Address and IP Address. The Gateway may send multiple responses. There will be at least one response from a computer that is attempting ARP Poisoning.\n",
    "\n",
    "### Output\n",
    "\n",
    "Your program must output `GATEWAY ` followed by the MAC Address of the Gateway on the first line of screen output. It should then output `POISONER `, followed by the MAC Address of the computer attempting ARP Poisoning. A computer that is attempting ARP Poisoning responds to requests for the Gateway with its own MAC Address.\n",
    "\n",
    "### Sample Input File `ids.dat`\n",
    "\n",
    "```\n",
    "8\n",
    "192.168.1.1 B3:C8:2E:6F:54:3A\n",
    "192.168.1.3 C5:E2:8A:B7:16:25\n",
    "192.168.1.1 B3:C8:2E:6F:54:3A\n",
    "192.168.1.4 A5:25:13:9B:2A:65\n",
    "192.168.1.1 A5:74:1A:9F:26:B4\n",
    "192.168.1.5 B3:C8:2E:6F:54:3A\n",
    "192.168.1.1 A5:74:1A:9F:26:B4\n",
    "192.168.1.2 B7:9F:5C:2E:65:7E\n",
    "```\n",
    "\n",
    "### Sample Output to Screen\n",
    "\n",
    "```\n",
    "GATEWAY B3:C8:2E:6F:54:3A\n",
    "POISONER A5:74:1A:9F:26:B4\n",
    "```"
   ]
  },
  {
   "cell_type": "code",
   "execution_count": 10,
   "metadata": {},
   "outputs": [
    {
     "name": "stdout",
     "output_type": "stream",
     "text": [
      "GATEWAY B3:C8:2E:6F:54:3A\n",
      "POISONER A5:74:1A:9F:26:B4\n"
     ]
    }
   ],
   "source": [
    "file = open(\"ids.dat\", \"r\")\n",
    "lines = file.readlines()[1:]\n",
    "ap_mac = None\n",
    "ap_ip = None\n",
    "for line in lines:\n",
    "    ip = line.split()[0].strip()\n",
    "    mac = line.split()[1].strip()\n",
    "    if not ap_mac:\n",
    "        ap_ip = ip\n",
    "        ap_mac = mac\n",
    "        print(\"GATEWAY\", ap_mac)\n",
    "    elif ap_ip == ip and ap_mac != mac:\n",
    "        print(\"POISONER\", mac)\n",
    "        break\n",
    "        "
   ]
  }
 ],
 "metadata": {
  "kernelspec": {
   "display_name": "Python 3",
   "language": "python",
   "name": "python3"
  },
  "language_info": {
   "codemirror_mode": {
    "name": "ipython",
    "version": 3
   },
   "file_extension": ".py",
   "mimetype": "text/x-python",
   "name": "python",
   "nbconvert_exporter": "python",
   "pygments_lexer": "ipython3",
   "version": "3.6.4"
  }
 },
 "nbformat": 4,
 "nbformat_minor": 2
}
