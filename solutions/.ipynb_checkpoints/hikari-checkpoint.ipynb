{
 "cells": [
  {
   "cell_type": "markdown",
   "metadata": {},
   "source": [
    "# Hikari\n",
    "\n",
    "The TACC system Hikari is unique, in that it is solar powered. The TACC parking lot is a large solar array, that can supply up to 220 kilowatts of power when it is very sunny outside. When the solar array is not providing enough power due to sunset or cloudy conditions, Hikari has a battery backup system with a 800 kilowatt capacity. Any power not used by Hikari is used to charge its backup system. If the battery is full, energy is returned to the city power grid. If the battery is empty and Hikari is consuming more power than is provided by solar, energy is consumed from the city power grid.\n",
    "\n",
    "### Input\n",
    "\n",
    "Your program must read input from the text file `hikari.dat`. This file will contain 24 lines of input. Each line is a pair of integers separated by a space, representing Hikari power measurements for an hour of the day. The first number is the power output from the solar array for that hour. The second number is Hikari's power consumption for that hour. *Assume that the battery backup system has 400 kilowatts at the beginning of the 24 hour period.* \n",
    "\n",
    "### Output\n",
    "\n",
    "Your program must output to the screen one line with the number of kilowatts of current supplied to the the city grid followed by ` KW SUPPLIED`, and a second line with the number of kilowatts consumed from the city grid followed by ` KW CONSUMED`.\n",
    "\n",
    "### Sample Input File `hikari.dat`\n",
    "\n",
    "```\n",
    "0 60\n",
    "0 60\n",
    "0 60\n",
    "0 60\n",
    "0 120\n",
    "60 120\n",
    "160 140\n",
    "220 140\n",
    "220 140\n",
    "220 140\n",
    "120 140\n",
    "180 140\n",
    "220 120\n",
    "220 120\n",
    "220 120\n",
    "220 140\n",
    "200 140\n",
    "180 80\n",
    "160 80\n",
    "140 100\n",
    "120 120\n",
    "60 120\n",
    "0 120\n",
    "0 120\n",
    "```\n",
    "\n",
    "### Sample Output to Screen\n",
    "\n",
    "```\n",
    "120 KW SUPPLIED\n",
    "20 KW CONSUMED\n",
    "```"
   ]
  },
  {
   "cell_type": "code",
   "execution_count": 7,
   "metadata": {},
   "outputs": [
    {
     "name": "stdout",
     "output_type": "stream",
     "text": [
      "120 KW SUPPLIED\n",
      "20 KW CONSUMED\n"
     ]
    }
   ],
   "source": [
    "file = open(\"hikari.dat\", \"r\")\n",
    "battery = 400\n",
    "capacity = 800\n",
    "supplied = 0\n",
    "consumed = 0\n",
    "for i in range(24):\n",
    "    vals = [ int(token.strip()) for token in file.readline().split() ]\n",
    "    solar = vals[0]\n",
    "    hikari = vals[1]\n",
    "    differential = solar - hikari\n",
    "    battery = battery + differential\n",
    "    if battery < 0:\n",
    "        consumed = consumed + abs(battery)\n",
    "    elif battery > capacity:\n",
    "        supplied = supplied + (battery - capacity)\n",
    "        battery = capacity\n",
    "print(supplied, \"KW SUPPLIED\")\n",
    "print(consumed, \"KW CONSUMED\")"
   ]
  }
 ],
 "metadata": {
  "kernelspec": {
   "display_name": "Python 3",
   "language": "python",
   "name": "python3"
  },
  "language_info": {
   "codemirror_mode": {
    "name": "ipython",
    "version": 3
   },
   "file_extension": ".py",
   "mimetype": "text/x-python",
   "name": "python",
   "nbconvert_exporter": "python",
   "pygments_lexer": "ipython3",
   "version": "3.6.4"
  }
 },
 "nbformat": 4,
 "nbformat_minor": 2
}
