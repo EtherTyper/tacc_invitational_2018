{
 "cells": [
  {
   "cell_type": "markdown",
   "metadata": {},
   "source": [
    "# Catapult\n",
    "\n",
    "The Catapult system is designed for Artificial Intelligence research. One such area of mathematics that influences AI research is Game Theory. Here's a classic Game Theory problem.\n",
    "\n",
    "Let's pretend that two players, \"Me\" and \"Thee\" are playing a game where each player is holding two marbles - a Black Marble and White Marble. \"Me\" chooses a marble to play first, and \"Thee\" plays a marble second. \"Me\" wins a certain number of coins out of a stack of 10 coins. \"Thee\" takes the rest of the coins. The payoff schedule can be seen in this chart:\n",
    "\n",
    "|       | White | Black |\n",
    "|-------|-------|-------|\n",
    "| White |   8   |   2   |\n",
    "| Black |   4   |   6   |\n",
    "\n",
    "\"Me\" plays first and gets to choose either the *White row* or *Black row*, based on which marble they choose to play. \"Thee\" plays second and gets to choose either the *White column* or *Black column*, based on which marble they choose to play. (\"Thee\" can play the same color marble.) The number in the corresponding column is the number of coins that \"Me\" wins. \n",
    "\n",
    "In this table, the highest guaranteed reward for \"Me\" is to play the *Black* marble and collect 4 coins. If they choose to play the *White* marble, \"Thee\" will play the \"Black\" marble resulting in a payoff of only 2 coins, while \"Thee\" takes the remaining 8 coins. Therefore, the best move for \"Me\" is to play the *Black* marble. The payoff of 4 coins is called a *Saddlepoint* solution for \"Me\", since it is the best play that \"Me\" can make.\n",
    "\n",
    "### Input\n",
    "\n",
    "Your program must accept input from a file named `catapult.dat`. The first line of input will be an integer *`N`* that will determine the number of marbles that each player can play. The next *`N`* lines will be names of colors of marbles. After the names of colors, there will be a payoff schedule with *`N`* rows and *`N`* columns. Each column is seperated by a space and each row is on a different line. Rows and columns correspond to colors of marbles in the game.\n",
    "\n",
    "### Output\n",
    "\n",
    "Your first line of output must be `ME ` followed by the color of the marble with the best play for the \"Me\" player. The second line of output must be `THEE ` followed by the color of the marble that is the best play for the \"Thee\" player. The third line of output must be `PAYOFF ` followed by the payoff for the \"Me\" player.\n",
    "\n",
    "### Sample Input File `catapult.dat`\n",
    "\n",
    "```\n",
    "5\n",
    "RED\n",
    "ORANGE\n",
    "YELLOW\n",
    "GREEN\n",
    "BLUE\n",
    "9 3 6 4 2\n",
    "4 7 8 6 3\n",
    "6 9 8 5 7\n",
    "2 5 1 3 8\n",
    "4 8 5 3 2\n",
    "```\n",
    "\n",
    "### Sample Output to Screen\n",
    "\n",
    "```\n",
    "ME YELLOW\n",
    "THEE GREEN\n",
    "PAYOFF 5\n",
    "```"
   ]
  },
  {
   "cell_type": "code",
   "execution_count": 19,
   "metadata": {},
   "outputs": [
    {
     "name": "stdout",
     "output_type": "stream",
     "text": [
      "ME YELLOW\n",
      "THEE GREEN\n",
      "PAYOFF 5\n"
     ]
    }
   ],
   "source": [
    "file = open(\"catapult.dat\", \"r\")\n",
    "num_colors = int(file.readline().strip())\n",
    "colors = []\n",
    "me_guaranteed = []\n",
    "thee_choices = []\n",
    "\n",
    "for i in range(num_colors):\n",
    "    colors.append(file.readline().strip())\n",
    "for i in range(num_colors):\n",
    "    row = [ int(item) for item in file.readline().strip().split() ]\n",
    "    min_val = min(row)\n",
    "    me_guaranteed.append(min_val)\n",
    "    thee_choices.append(colors[row.index(min_val)])\n",
    "me_max = max(me_guaranteed)\n",
    "print(\"ME\", colors[me_guaranteed.index(me_max)])\n",
    "print(\"THEE\", thee_choices[me_guaranteed.index(me_max)])\n",
    "print(\"PAYOFF\", me_max)"
   ]
  }
 ],
 "metadata": {
  "kernelspec": {
   "display_name": "Python 3",
   "language": "python",
   "name": "python3"
  },
  "language_info": {
   "codemirror_mode": {
    "name": "ipython",
    "version": 3
   },
   "file_extension": ".py",
   "mimetype": "text/x-python",
   "name": "python",
   "nbconvert_exporter": "python",
   "pygments_lexer": "ipython3",
   "version": "3.6.4"
  }
 },
 "nbformat": 4,
 "nbformat_minor": 2
}
