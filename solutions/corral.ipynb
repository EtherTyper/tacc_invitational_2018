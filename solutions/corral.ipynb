{
 "cells": [
  {
   "cell_type": "markdown",
   "metadata": {},
   "source": [
    "# Corral\n",
    "\n",
    "The TACC system Corral stores a lot of public data sets, including data for the DesignSafe platform. You can think of DesignSafe as the \"Google Docs\" for Civil Engineers that are trying to create structures that are resilient to natural disasters such as Earthquakes.\n",
    "\n",
    "One common task in computational analysis of earthquakes is to figure out the wavelength of an earthquake. The wavelength of an earthquake can easily be determined by looking at the time in between peaks of accelerometer data from an earthquake.\n",
    "\n",
    "### Input\n",
    "\n",
    "Your program must read input from a file named `corral.dat`. The first line of the file is an integer *`N`* that represents the number of data points in the file. The file will be followed by *`N`* floating point numbers, representing accelerometer samples taken every 100 milliseconds.\n",
    "\n",
    "### Output\n",
    "\n",
    "Your program must output the wavelength of the earthquake in milliseconds. Peaks in the data can be identified as values whose neighbors are lower values. The interval between peaks is the wavelength. Peaks will never be the first nor last sample.\n",
    "\n",
    "### Sample Input File `corral.dat`\n",
    "\n",
    "```\n",
    "20\n",
    "0.1\n",
    "0.8\n",
    "1.1\n",
    "0.9\n",
    "0.4\n",
    "-0.2\n",
    "-1.0\n",
    "-0.5\n",
    "-0.1\n",
    "0.7\n",
    "1.0\n",
    "0.8\n",
    "0.5\n",
    "0.2\n",
    "-0.4\n",
    "-0.9\n",
    "-0.5\n",
    "0.1\n",
    "0.5\n",
    "0.7\n",
    "```\n",
    "\n",
    "### Sample Output to Screen\n",
    "\n",
    "```\n",
    "800ms\n",
    "```"
   ]
  },
  {
   "cell_type": "code",
   "execution_count": 1,
   "metadata": {},
   "outputs": [
    {
     "ename": "FileNotFoundError",
     "evalue": "[Errno 2] No such file or directory: 'corral.dat'",
     "output_type": "error",
     "traceback": [
      "\u001b[0;31m---------------------------------------------------------------------------\u001b[0m",
      "\u001b[0;31mFileNotFoundError\u001b[0m                         Traceback (most recent call last)",
      "\u001b[0;32m<ipython-input-1-7efa1227054a>\u001b[0m in \u001b[0;36m<module>\u001b[0;34m()\u001b[0m\n\u001b[0;32m----> 1\u001b[0;31m \u001b[0mfile\u001b[0m \u001b[0;34m=\u001b[0m \u001b[0mopen\u001b[0m\u001b[0;34m(\u001b[0m\u001b[0;34m\"corral.dat\"\u001b[0m\u001b[0;34m,\u001b[0m \u001b[0;34m\"r\"\u001b[0m\u001b[0;34m)\u001b[0m\u001b[0;34m\u001b[0m\u001b[0m\n\u001b[0m\u001b[1;32m      2\u001b[0m \u001b[0msamples\u001b[0m \u001b[0;34m=\u001b[0m \u001b[0;34m[\u001b[0m \u001b[0mfloat\u001b[0m\u001b[0;34m(\u001b[0m\u001b[0mval\u001b[0m\u001b[0;34m.\u001b[0m\u001b[0mstrip\u001b[0m\u001b[0;34m(\u001b[0m\u001b[0;34m)\u001b[0m\u001b[0;34m)\u001b[0m \u001b[0;32mfor\u001b[0m \u001b[0mval\u001b[0m \u001b[0;32min\u001b[0m \u001b[0mfile\u001b[0m \u001b[0;34m]\u001b[0m\u001b[0;34m[\u001b[0m\u001b[0;36m1\u001b[0m\u001b[0;34m:\u001b[0m\u001b[0;34m]\u001b[0m\u001b[0;34m\u001b[0m\u001b[0m\n\u001b[1;32m      3\u001b[0m \u001b[0mpeak1\u001b[0m \u001b[0;34m=\u001b[0m \u001b[0;32mNone\u001b[0m\u001b[0;34m\u001b[0m\u001b[0m\n\u001b[1;32m      4\u001b[0m \u001b[0mpeak2\u001b[0m \u001b[0;34m=\u001b[0m \u001b[0;32mNone\u001b[0m\u001b[0;34m\u001b[0m\u001b[0m\n\u001b[1;32m      5\u001b[0m \u001b[0;32mfor\u001b[0m \u001b[0mi\u001b[0m \u001b[0;32min\u001b[0m \u001b[0mrange\u001b[0m\u001b[0;34m(\u001b[0m\u001b[0mlen\u001b[0m\u001b[0;34m(\u001b[0m\u001b[0msamples\u001b[0m\u001b[0;34m)\u001b[0m\u001b[0;34m)\u001b[0m\u001b[0;34m:\u001b[0m\u001b[0;34m\u001b[0m\u001b[0m\n",
      "\u001b[0;31mFileNotFoundError\u001b[0m: [Errno 2] No such file or directory: 'corral.dat'"
     ]
    }
   ],
   "source": [
    "file = open(\"corral.dat\", \"r\")\n",
    "samples = [ float(val.strip()) for val in file ][1:]\n",
    "peak1 = None\n",
    "peak2 = None\n",
    "for i in range(len(samples)):\n",
    "    try:\n",
    "        if samples[i] > samples[i - 1] and samples[i] > samples[i + 1]:\n",
    "            if not peak1:\n",
    "                peak1 = i\n",
    "            else:\n",
    "                peak2 = i\n",
    "                break\n",
    "    except:\n",
    "        pass\n",
    "print(\"{}ms\".format((peak2 - peak1) * 100))"
   ]
  }
 ],
 "metadata": {
  "kernelspec": {
   "display_name": "Python 3",
   "language": "python",
   "name": "python3"
  },
  "language_info": {
   "codemirror_mode": {
    "name": "ipython",
    "version": 3
   },
   "file_extension": ".py",
   "mimetype": "text/x-python",
   "name": "python",
   "nbconvert_exporter": "python",
   "pygments_lexer": "ipython3",
   "version": "3.6.4"
  }
 },
 "nbformat": 4,
 "nbformat_minor": 2
}
